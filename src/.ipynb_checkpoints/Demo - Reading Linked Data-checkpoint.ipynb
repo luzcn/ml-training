{
 "cells": [
  {
   "cell_type": "markdown",
   "metadata": {},
   "source": [
    "# Demo: Reading Linked Data\n",
    "* for this exercise you will need to install SPARQLWrapper:\n",
    "  * __`~/anaconda3/bin/conda install -c conda-forge sparqlwrapper`__\n",
    "  * Windows: Use Start Menu to open Anaconda Shell, then __`conda install -c conda-forge sparqlwrapper`__"
   ]
  },
  {
   "cell_type": "code",
   "execution_count": 8,
   "metadata": {},
   "outputs": [],
   "source": [
    "import pandas as pd\n",
    "import json\n",
    "from SPARQLWrapper import SPARQLWrapper, JSON"
   ]
  },
  {
   "cell_type": "code",
   "execution_count": 9,
   "metadata": {},
   "outputs": [],
   "source": [
    "def get_sparql_dataframe(service, query):\n",
    "    \"\"\"\n",
    "    Helper function to convert SPARQL results into a Pandas data frame.\n",
    "    \"\"\"\n",
    "    sparql = SPARQLWrapper(service)\n",
    "    sparql.setQuery(query)\n",
    "    sparql.setReturnFormat(JSON)\n",
    "    result = sparql.query()\n",
    "\n",
    "    processed_results = json.load(result.response)\n",
    "    cols = processed_results['head']['vars']\n",
    "\n",
    "    out = []\n",
    "    for row in processed_results['results']['bindings']:\n",
    "        item = []\n",
    "        for c in cols:\n",
    "            item.append(row.get(c, {}).get('value'))\n",
    "        out.append(item)\n",
    "\n",
    "    return pd.DataFrame(out, columns=cols)"
   ]
  },
  {
   "cell_type": "code",
   "execution_count": 10,
   "metadata": {},
   "outputs": [],
   "source": [
    "wds = \"https://query.wikidata.org/sparql\""
   ]
  },
  {
   "cell_type": "code",
   "execution_count": 13,
   "metadata": {},
   "outputs": [],
   "source": [
    "# This is a SPARQL query to send to the SPARQL endpoint defined in the\n",
    "# previous step. It mixes three vocabularies that each have their own\n",
    "# definitions but is ultimately a selection from the Wikidata graph.\n",
    "#\n",
    "# We're looking for distinct rows of individuals who have an orcid\n",
    "# (https://orcid.org) and any English descriptions and labels we\n",
    "# might also have about them. We're matching a pattern in the graph\n",
    "# for any node that is connected to other nodes with these relationships.\n",
    "#\n",
    "# Note that the relationships themselves are often resolvable. To\n",
    "# understand what wdt:P496 means, expand it into its full URL by\n",
    "# applying the prefix for wdt and then issue an HTTP request to\n",
    "# http://www.wikidata.org/prop/direct/P496\n",
    "#\n",
    "# For more information on SPARQL, please consult \"Learning SPARQL (2nd\n",
    "# Edition)\" by Bob DuCharme.\n",
    "\n",
    "rq = \"\"\"\n",
    "PREFIX bd: <http://www.bigdata.com/rdf#>\n",
    "PREFIX wikibase: <http://wikiba.se/ontology#>\n",
    "PREFIX wdt: <http://www.wikidata.org/prop/direct/>\n",
    "\n",
    "select distinct\n",
    "   ?item\n",
    "   ?itemLabel\n",
    "   ?orcid\n",
    "   ?description\n",
    "WHERE {\n",
    "  ?item wdt:P496 ?orcid \n",
    "  OPTIONAL { ?item schema:description ?description filter (lang(?description) = \"en\") }\n",
    "  SERVICE wikibase:label {\n",
    "        bd:serviceParam wikibase:language \"en\" .\n",
    "  }\n",
    "} Limit 10000\n",
    "\"\"\""
   ]
  },
  {
   "cell_type": "code",
   "execution_count": 14,
   "metadata": {},
   "outputs": [],
   "source": [
    "wikidf = get_sparql_dataframe(wds, rq)"
   ]
  },
  {
   "cell_type": "code",
   "execution_count": 15,
   "metadata": {},
   "outputs": [
    {
     "data": {
      "text/html": [
       "<div>\n",
       "<style scoped>\n",
       "    .dataframe tbody tr th:only-of-type {\n",
       "        vertical-align: middle;\n",
       "    }\n",
       "\n",
       "    .dataframe tbody tr th {\n",
       "        vertical-align: top;\n",
       "    }\n",
       "\n",
       "    .dataframe thead th {\n",
       "        text-align: right;\n",
       "    }\n",
       "</style>\n",
       "<table border=\"1\" class=\"dataframe\">\n",
       "  <thead>\n",
       "    <tr style=\"text-align: right;\">\n",
       "      <th></th>\n",
       "      <th>item</th>\n",
       "      <th>itemLabel</th>\n",
       "      <th>orcid</th>\n",
       "      <th>description</th>\n",
       "    </tr>\n",
       "  </thead>\n",
       "  <tbody>\n",
       "    <tr>\n",
       "      <th>0</th>\n",
       "      <td>http://www.wikidata.org/entity/Q879571</td>\n",
       "      <td>Björn Brembs</td>\n",
       "      <td>0000-0001-7824-7650</td>\n",
       "      <td>German university teacher</td>\n",
       "    </tr>\n",
       "    <tr>\n",
       "      <th>1</th>\n",
       "      <td>http://www.wikidata.org/entity/Q91785</td>\n",
       "      <td>Anna Frebel</td>\n",
       "      <td>0000-0002-2139-7145</td>\n",
       "      <td>astronomer</td>\n",
       "    </tr>\n",
       "    <tr>\n",
       "      <th>2</th>\n",
       "      <td>http://www.wikidata.org/entity/Q63514</td>\n",
       "      <td>Reinhardt Kristensen</td>\n",
       "      <td>0000-0001-9549-1188</td>\n",
       "      <td>Danish Scientist</td>\n",
       "    </tr>\n",
       "    <tr>\n",
       "      <th>3</th>\n",
       "      <td>http://www.wikidata.org/entity/Q532387</td>\n",
       "      <td>Takashi Gojobori</td>\n",
       "      <td>0000-0001-7850-1743</td>\n",
       "      <td>Japanese biologist</td>\n",
       "    </tr>\n",
       "    <tr>\n",
       "      <th>4</th>\n",
       "      <td>http://www.wikidata.org/entity/Q92756</td>\n",
       "      <td>Johan Håstad</td>\n",
       "      <td>0000-0002-5379-345X</td>\n",
       "      <td>Swedish computer scientist</td>\n",
       "    </tr>\n",
       "  </tbody>\n",
       "</table>\n",
       "</div>"
      ],
      "text/plain": [
       "                                     item             itemLabel  \\\n",
       "0  http://www.wikidata.org/entity/Q879571          Björn Brembs   \n",
       "1   http://www.wikidata.org/entity/Q91785           Anna Frebel   \n",
       "2   http://www.wikidata.org/entity/Q63514  Reinhardt Kristensen   \n",
       "3  http://www.wikidata.org/entity/Q532387      Takashi Gojobori   \n",
       "4   http://www.wikidata.org/entity/Q92756          Johan Håstad   \n",
       "\n",
       "                 orcid                 description  \n",
       "0  0000-0001-7824-7650   German university teacher  \n",
       "1  0000-0002-2139-7145                  astronomer  \n",
       "2  0000-0001-9549-1188            Danish Scientist  \n",
       "3  0000-0001-7850-1743          Japanese biologist  \n",
       "4  0000-0002-5379-345X  Swedish computer scientist  "
      ]
     },
     "execution_count": 15,
     "metadata": {},
     "output_type": "execute_result"
    }
   ],
   "source": [
    "# Let's inspect our DataFrame\n",
    "wikidf.head()"
   ]
  },
  {
   "cell_type": "code",
   "execution_count": 16,
   "metadata": {},
   "outputs": [
    {
     "data": {
      "text/html": [
       "<div>\n",
       "<style scoped>\n",
       "    .dataframe tbody tr th:only-of-type {\n",
       "        vertical-align: middle;\n",
       "    }\n",
       "\n",
       "    .dataframe tbody tr th {\n",
       "        vertical-align: top;\n",
       "    }\n",
       "\n",
       "    .dataframe thead th {\n",
       "        text-align: right;\n",
       "    }\n",
       "</style>\n",
       "<table border=\"1\" class=\"dataframe\">\n",
       "  <thead>\n",
       "    <tr style=\"text-align: right;\">\n",
       "      <th></th>\n",
       "      <th>item</th>\n",
       "      <th>itemLabel</th>\n",
       "      <th>orcid</th>\n",
       "      <th>description</th>\n",
       "    </tr>\n",
       "  </thead>\n",
       "  <tbody>\n",
       "    <tr>\n",
       "      <th>count</th>\n",
       "      <td>10000</td>\n",
       "      <td>10000</td>\n",
       "      <td>10000</td>\n",
       "      <td>1018</td>\n",
       "    </tr>\n",
       "    <tr>\n",
       "      <th>unique</th>\n",
       "      <td>9999</td>\n",
       "      <td>9989</td>\n",
       "      <td>9993</td>\n",
       "      <td>466</td>\n",
       "    </tr>\n",
       "    <tr>\n",
       "      <th>top</th>\n",
       "      <td>http://www.wikidata.org/entity/Q42326259</td>\n",
       "      <td>Tao Liu</td>\n",
       "      <td>0000-0002-9231-9996</td>\n",
       "      <td>researcher</td>\n",
       "    </tr>\n",
       "    <tr>\n",
       "      <th>freq</th>\n",
       "      <td>2</td>\n",
       "      <td>2</td>\n",
       "      <td>2</td>\n",
       "      <td>430</td>\n",
       "    </tr>\n",
       "  </tbody>\n",
       "</table>\n",
       "</div>"
      ],
      "text/plain": [
       "                                            item itemLabel  \\\n",
       "count                                      10000     10000   \n",
       "unique                                      9999      9989   \n",
       "top     http://www.wikidata.org/entity/Q42326259   Tao Liu   \n",
       "freq                                           2         2   \n",
       "\n",
       "                      orcid description  \n",
       "count                 10000        1018  \n",
       "unique                 9993         466  \n",
       "top     0000-0002-9231-9996  researcher  \n",
       "freq                      2         430  "
      ]
     },
     "execution_count": 16,
     "metadata": {},
     "output_type": "execute_result"
    }
   ],
   "source": [
    "# Some stats...\n",
    "wikidf.describe()"
   ]
  },
  {
   "cell_type": "code",
   "execution_count": 18,
   "metadata": {},
   "outputs": [
    {
     "data": {
      "text/plain": [
       "researcher                     430\n",
       "chemist                         10\n",
       "scientist                       10\n",
       "botanist                         8\n",
       "British computer scientist       6\n",
       "American computer scientist      5\n",
       "American biologist               5\n",
       "German computer scientist        5\n",
       "American scientist               5\n",
       "Brazilian entomologist           4\n",
       "Name: description, dtype: int64"
      ]
     },
     "execution_count": 18,
     "metadata": {},
     "output_type": "execute_result"
    }
   ],
   "source": [
    "# Top 10 most frequently occurring job titles\n",
    "wikidf['description'].value_counts()[:10]"
   ]
  },
  {
   "cell_type": "code",
   "execution_count": 19,
   "metadata": {},
   "outputs": [
    {
     "name": "stdout",
     "output_type": "stream",
     "text": [
      "Stored 'wikidf' (DataFrame)\n"
     ]
    }
   ],
   "source": [
    "# A Jupyter trick to store this DataFrame so we can use it in our exercise\n",
    "%store wikidf"
   ]
  },
  {
   "cell_type": "code",
   "execution_count": null,
   "metadata": {},
   "outputs": [],
   "source": []
  }
 ],
 "metadata": {
  "kernelspec": {
   "display_name": "Python 3",
   "language": "python",
   "name": "python3"
  },
  "language_info": {
   "codemirror_mode": {
    "name": "ipython",
    "version": 3
   },
   "file_extension": ".py",
   "mimetype": "text/x-python",
   "name": "python",
   "nbconvert_exporter": "python",
   "pygments_lexer": "ipython3",
   "version": "3.7.3"
  }
 },
 "nbformat": 4,
 "nbformat_minor": 2
}
