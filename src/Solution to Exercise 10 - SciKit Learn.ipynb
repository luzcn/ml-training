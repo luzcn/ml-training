{
 "cells": [
  {
   "cell_type": "markdown",
   "metadata": {},
   "source": [
    "## Let's model some actual sales data\n",
    "* After the following imports, read in the file __`data/WA_Fn-UseC_-Sales-Win-Loss.csv`__"
   ]
  },
  {
   "cell_type": "code",
   "execution_count": null,
   "metadata": {},
   "outputs": [],
   "source": [
    "import pandas as pd\n",
    "import numpy as np\n",
    "import matplotlib.pyplot as plt\n",
    "from sklearn.linear_model import LinearRegression\n",
    "from sklearn.model_selection import train_test_split"
   ]
  },
  {
   "cell_type": "code",
   "execution_count": null,
   "metadata": {},
   "outputs": [],
   "source": [
    "dat = pd.read_csv(\"data/WA_Fn-UseC_-Sales-Win-Loss.csv\")"
   ]
  },
  {
   "cell_type": "markdown",
   "metadata": {},
   "source": [
    "## Explore the data a bit"
   ]
  },
  {
   "cell_type": "code",
   "execution_count": null,
   "metadata": {},
   "outputs": [],
   "source": [
    "dat.head()"
   ]
  },
  {
   "cell_type": "markdown",
   "metadata": {},
   "source": [
    "## Select/Clean the data\n",
    "\n",
    "1. We only want rows that have a \"Won\" value for the \"Opportunity Result\" and then we want to drop that column from the filtered data. \n",
    "* We need to convert the categorical data into dummy binary elements. Use the function __`get_dummies()`__ function for this purpose.\n",
    "* Save off the __`Opportunity Amount USD`__ results for comparison purposes but then drop that column\n",
    "* Split the remaining data into training and test data for our filtered results and the winning amounts (saved data from step 3)"
   ]
  },
  {
   "cell_type": "code",
   "execution_count": null,
   "metadata": {},
   "outputs": [],
   "source": [
    "won = dat[dat[\"Opportunity Result\"] == \"Won\"].drop([\"Opportunity Result\"], axis=1)\n",
    "\n",
    "won = pd.get_dummies(won)\n",
    "won_output = won[\"Opportunity Amount USD\"]\n",
    "won_filtered = won.drop([\"Opportunity Number\", \"Opportunity Amount USD\"],axis=1)\n",
    "\n",
    "won_train, won_test, won_train_output, won_test_output = train_test_split(won_filtered, won_output, test_size=1000)"
   ]
  },
  {
   "cell_type": "code",
   "execution_count": null,
   "metadata": {},
   "outputs": [],
   "source": [
    "won.head()"
   ]
  },
  {
   "cell_type": "markdown",
   "metadata": {},
   "source": [
    "## Model the data\n",
    "* Create a __`LinearRegression`__ model and then fit the training data and its output"
   ]
  },
  {
   "cell_type": "code",
   "execution_count": null,
   "metadata": {},
   "outputs": [],
   "source": [
    "regr = LinearRegression()\n",
    "linreg = regr.fit(won_train, won_train_output)"
   ]
  },
  {
   "cell_type": "markdown",
   "metadata": {},
   "source": [
    "## View results\n",
    "* Create a __`DataFrame`__ of the coefficients from the regression model\n",
    "* Sort the values\n",
    "* Display the values"
   ]
  },
  {
   "cell_type": "code",
   "execution_count": null,
   "metadata": {},
   "outputs": [],
   "source": [
    "coef = pd.DataFrame({\"coef\" : linreg.coef_.tolist()},index=won_train.columns)\n",
    "coef.sort_values('coef', ascending=False)"
   ]
  },
  {
   "cell_type": "markdown",
   "metadata": {},
   "source": [
    "## How did we do?\n",
    "1. Predict the results from the test data\n",
    "* Measure the predictions against the actual winning results"
   ]
  },
  {
   "cell_type": "code",
   "execution_count": null,
   "metadata": {},
   "outputs": [],
   "source": [
    "from sklearn.metrics import mean_absolute_error\n",
    "y_pred = linreg.predict(won_test)\n",
    "y_actual = won_test_output\n",
    "print(\"MAE : ${:,.2f}\".format(mean_absolute_error(y_actual, y_pred)))\n",
    "print(\"mean: ${:,.2f}\".format(np.mean(y_actual)))"
   ]
  },
  {
   "cell_type": "code",
   "execution_count": null,
   "metadata": {},
   "outputs": [],
   "source": []
  }
 ],
 "metadata": {
  "kernelspec": {
   "display_name": "Python 3",
   "language": "python",
   "name": "python3"
  },
  "language_info": {
   "codemirror_mode": {
    "name": "ipython",
    "version": 3
   },
   "file_extension": ".py",
   "mimetype": "text/x-python",
   "name": "python",
   "nbconvert_exporter": "python",
   "pygments_lexer": "ipython3",
   "version": "3.7.0"
  }
 },
 "nbformat": 4,
 "nbformat_minor": 2
}
