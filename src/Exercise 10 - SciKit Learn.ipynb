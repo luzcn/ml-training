{
 "cells": [
  {
   "cell_type": "markdown",
   "metadata": {},
   "source": [
    "## Exercise 10 - SciKit Learn\n",
    "* Let's model some actual sales data\n",
    "* After the following imports, read in the file __`data/WA_Fn-UseC_-Sales-Win-Loss.csv`__"
   ]
  },
  {
   "cell_type": "code",
   "execution_count": null,
   "metadata": {},
   "outputs": [],
   "source": []
  },
  {
   "cell_type": "code",
   "execution_count": null,
   "metadata": {},
   "outputs": [],
   "source": []
  },
  {
   "cell_type": "markdown",
   "metadata": {},
   "source": [
    "## Explore the data a bit"
   ]
  },
  {
   "cell_type": "code",
   "execution_count": null,
   "metadata": {},
   "outputs": [],
   "source": []
  },
  {
   "cell_type": "markdown",
   "metadata": {},
   "source": [
    "## Select/Clean the data\n",
    "\n",
    "1. We're going to predict the amount of a sale, so we only want rows that have a __`Won`__ value for the __`Opportunity Result`__ and then we want to drop that column from the filtered data.\n",
    "* We need to convert the categorical data (e.g., 'Northwest', 'Pacific', etc.) into dummy variables (numbers). Use the function __`get_dummies()`__ function for this purpose.\n",
    "* Our target is __`Opportunity Amount USD`__, so grab that and drop the column from the data frame.\n",
    "* Split the remaining data into training and test data using the __`train_test_split()`__ function."
   ]
  },
  {
   "cell_type": "code",
   "execution_count": null,
   "metadata": {},
   "outputs": [],
   "source": [
    "# Give these this code to the student to get started\n",
    "X = data[data['Opportunity Result'] == 'Won'].drop('Opportunity Result', axis=1)\n",
    "X = pd.get_dummies(X)\n",
    "y = X['Opportunity Amount USD']\n",
    "X = X.drop(['Opportunity Number', 'Opportunity Amount USD'], axis=1)"
   ]
  },
  {
   "cell_type": "code",
   "execution_count": null,
   "metadata": {},
   "outputs": [],
   "source": []
  },
  {
   "cell_type": "markdown",
   "metadata": {},
   "source": [
    "## Model the data\n",
    "* Create a __`LinearRegression`__ model and then fit the training data and its output"
   ]
  },
  {
   "cell_type": "code",
   "execution_count": null,
   "metadata": {},
   "outputs": [],
   "source": []
  },
  {
   "cell_type": "code",
   "execution_count": null,
   "metadata": {},
   "outputs": [],
   "source": []
  },
  {
   "cell_type": "markdown",
   "metadata": {},
   "source": [
    "## View results\n",
    "* Create a __`DataFrame`__ of the coefficients from the regression model\n",
    "* Sort the values\n",
    "* Display the values"
   ]
  },
  {
   "cell_type": "code",
   "execution_count": null,
   "metadata": {},
   "outputs": [],
   "source": []
  },
  {
   "cell_type": "code",
   "execution_count": null,
   "metadata": {},
   "outputs": [],
   "source": []
  },
  {
   "cell_type": "markdown",
   "metadata": {},
   "source": [
    "## How did we do?\n",
    "1. Predict the results from the test data \n",
    "* Measure the predictions against the actual winning results–we will use mean absolute error (MAE) as our metric "
   ]
  },
  {
   "cell_type": "code",
   "execution_count": null,
   "metadata": {},
   "outputs": [],
   "source": []
  },
  {
   "cell_type": "code",
   "execution_count": null,
   "metadata": {},
   "outputs": [],
   "source": []
  },
  {
   "cell_type": "code",
   "execution_count": null,
   "metadata": {},
   "outputs": [],
   "source": []
  }
 ],
 "metadata": {
  "kernelspec": {
   "display_name": "Python 3",
   "language": "python",
   "name": "python3"
  },
  "language_info": {
   "codemirror_mode": {
    "name": "ipython",
    "version": 3
   },
   "file_extension": ".py",
   "mimetype": "text/x-python",
   "name": "python",
   "nbconvert_exporter": "python",
   "pygments_lexer": "ipython3",
   "version": "3.7.0"
  }
 },
 "nbformat": 4,
 "nbformat_minor": 2
}
