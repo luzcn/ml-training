{
 "cells": [
  {
   "cell_type": "markdown",
   "metadata": {},
   "source": [
    "# Demo: Linear Regression"
   ]
  },
  {
   "cell_type": "code",
   "execution_count": 2,
   "metadata": {
    "ExecuteTime": {
     "end_time": "2018-03-16T21:14:52.271291Z",
     "start_time": "2018-03-16T21:14:52.265698Z"
    }
   },
   "outputs": [],
   "source": [
    "%matplotlib inline\n",
    "import matplotlib.pyplot as plt\n",
    "import numpy as np"
   ]
  },
  {
   "cell_type": "markdown",
   "metadata": {},
   "source": [
    "## First, let's create some linear data"
   ]
  },
  {
   "cell_type": "code",
   "execution_count": 3,
   "metadata": {
    "ExecuteTime": {
     "end_time": "2018-03-16T21:14:52.279350Z",
     "start_time": "2018-03-16T21:14:52.273563Z"
    }
   },
   "outputs": [
    {
     "data": {
      "text/plain": [
       "array([1.54162842, 7.40049697, 2.63315015, 5.33739393, 0.14574962,\n",
       "       9.18747008, 9.00714854, 0.33421428, 9.56949336, 1.37209321,\n",
       "       2.83828353, 6.06083184, 9.44225136, 8.52735541, 0.02259234,\n",
       "       5.21226027, 5.52037633, 4.85377414, 7.68134154, 1.60716753,\n",
       "       7.6456045 , 0.20809798, 1.35210178, 1.16273017, 3.09897584,\n",
       "       6.71452645, 4.71229778, 8.16168298, 2.89586784, 7.33125978,\n",
       "       7.02622355, 3.27569476, 3.34647529, 9.78058079, 6.24582112,\n",
       "       9.50313525, 7.67475651, 8.25009253, 4.06640302, 4.51308411,\n",
       "       4.00631627, 9.9513816 , 1.77564176, 9.62596903, 4.1925027 ,\n",
       "       4.24052447, 4.6314887 , 3.73723149, 4.655081  , 0.35168261])"
      ]
     },
     "execution_count": 3,
     "metadata": {},
     "output_type": "execute_result"
    }
   ],
   "source": [
    "rng = np.random.RandomState(12)\n",
    "x = 10 * rng.rand(50)\n",
    "x"
   ]
  },
  {
   "cell_type": "code",
   "execution_count": 5,
   "metadata": {
    "ExecuteTime": {
     "end_time": "2018-03-16T21:14:52.365634Z",
     "start_time": "2018-03-16T21:14:52.281306Z"
    }
   },
   "outputs": [
    {
     "data": {
      "image/png": "[encoded data removed]",
      "text/plain": [
       "<Figure size 432x288 with 1 Axes>"
      ]
     },
     "metadata": {
      "needs_background": "light"
     },
     "output_type": "display_data"
    }
   ],
   "source": [
    "y = 2 * x - 6 + rng.randn(50) # add some noise to the output\n",
    "plt.scatter(x, y);"
   ]
  },
  {
   "cell_type": "code",
   "execution_count": 9,
   "metadata": {
    "ExecuteTime": {
     "end_time": "2018-03-16T21:14:52.466703Z",
     "start_time": "2018-03-16T21:14:52.367693Z"
    }
   },
   "outputs": [
    {
     "name": "stdout",
     "output_type": "stream",
     "text": [
      "[1.54162842 7.40049697 2.63315015 5.33739393 0.14574962 9.18747008\n",
      " 9.00714854 0.33421428 9.56949336 1.37209321 2.83828353 6.06083184\n",
      " 9.44225136 8.52735541 0.02259234 5.21226027 5.52037633 4.85377414\n",
      " 7.68134154 1.60716753 7.6456045  0.20809798 1.35210178 1.16273017\n",
      " 3.09897584 6.71452645 4.71229778 8.16168298 2.89586784 7.33125978\n",
      " 7.02622355 3.27569476 3.34647529 9.78058079 6.24582112 9.50313525\n",
      " 7.67475651 8.25009253 4.06640302 4.51308411 4.00631627 9.9513816\n",
      " 1.77564176 9.62596903 4.1925027  4.24052447 4.6314887  3.73723149\n",
      " 4.655081   0.35168261]\n",
      "(50,)\n",
      "[[1.54162842]\n",
      " [7.40049697]\n",
      " [2.63315015]\n",
      " [5.33739393]\n",
      " [0.14574962]\n",
      " [9.18747008]\n",
      " [9.00714854]\n",
      " [0.33421428]\n",
      " [9.56949336]\n",
      " [1.37209321]\n",
      " [2.83828353]\n",
      " [6.06083184]\n",
      " [9.44225136]\n",
      " [8.52735541]\n",
      " [0.02259234]\n",
      " [5.21226027]\n",
      " [5.52037633]\n",
      " [4.85377414]\n",
      " [7.68134154]\n",
      " [1.60716753]\n",
      " [7.6456045 ]\n",
      " [0.20809798]\n",
      " [1.35210178]\n",
      " [1.16273017]\n",
      " [3.09897584]\n",
      " [6.71452645]\n",
      " [4.71229778]\n",
      " [8.16168298]\n",
      " [2.89586784]\n",
      " [7.33125978]\n",
      " [7.02622355]\n",
      " [3.27569476]\n",
      " [3.34647529]\n",
      " [9.78058079]\n",
      " [6.24582112]\n",
      " [9.50313525]\n",
      " [7.67475651]\n",
      " [8.25009253]\n",
      " [4.06640302]\n",
      " [4.51308411]\n",
      " [4.00631627]\n",
      " [9.9513816 ]\n",
      " [1.77564176]\n",
      " [9.62596903]\n",
      " [4.1925027 ]\n",
      " [4.24052447]\n",
      " [4.6314887 ]\n",
      " [3.73723149]\n",
      " [4.655081  ]\n",
      " [0.35168261]]\n"
     ]
    },
    {
     "data": {
      "text/plain": [
       "(50, 1)"
      ]
     },
     "execution_count": 9,
     "metadata": {},
     "output_type": "execute_result"
    }
   ],
   "source": [
    "from sklearn.linear_model import LinearRegression\n",
    "model = LinearRegression()\n",
    "# we need to convert the data from a 1-d array to a 2-d array\n",
    "# so we use np.newaxis to do that\n",
    "# ...let's take a look\n",
    "print(x)\n",
    "print(x.shape)\n",
    "x2 = x[:, np.newaxis]\n",
    "print(x2)\n",
    "x2.shape"
   ]
  },
  {
   "cell_type": "code",
   "execution_count": 15,
   "metadata": {},
   "outputs": [
    {
     "data": {
      "image/png": "[encoded data removed]",
      "text/plain": [
       "<Figure size 432x288 with 1 Axes>"
      ]
     },
     "metadata": {
      "needs_background": "light"
     },
     "output_type": "display_data"
    }
   ],
   "source": [
    "model.fit(x[:, np.newaxis], y)\n",
    "xfit = np.linspace(0, 10, 2)\n",
    "yfit = model.predict(xfit[:, np.newaxis])\n",
    "plt.scatter(x, y)\n",
    "plt.plot(xfit, yfit, color='red');"
   ]
  },
  {
   "cell_type": "markdown",
   "metadata": {},
   "source": [
    "## Let's examine the coefficient and intercept"
   ]
  },
  {
   "cell_type": "code",
   "execution_count": 16,
   "metadata": {
    "ExecuteTime": {
     "end_time": "2018-03-16T21:14:52.473891Z",
     "start_time": "2018-03-16T21:14:52.468821Z"
    }
   },
   "outputs": [
    {
     "data": {
      "text/plain": [
       "array([1.93665786])"
      ]
     },
     "execution_count": 16,
     "metadata": {},
     "output_type": "execute_result"
    }
   ],
   "source": [
    "model.coef_"
   ]
  },
  {
   "cell_type": "code",
   "execution_count": 17,
   "metadata": {
    "ExecuteTime": {
     "end_time": "2018-03-16T21:14:52.481044Z",
     "start_time": "2018-03-16T21:14:52.475773Z"
    }
   },
   "outputs": [
    {
     "data": {
      "text/plain": [
       "-5.728259340779379"
      ]
     },
     "execution_count": 17,
     "metadata": {},
     "output_type": "execute_result"
    }
   ],
   "source": [
    "model.intercept_"
   ]
  },
  {
   "cell_type": "code",
   "execution_count": 18,
   "metadata": {},
   "outputs": [
    {
     "name": "stdout",
     "output_type": "stream",
     "text": [
      "y = 1.94x + -5.73\n"
     ]
    }
   ],
   "source": [
    "# Use Python 3.6 f-strings to print out the formula of the regression line\n",
    "print(f'y = {model.coef_[0]:.2f}x + {model.intercept_:.2f}')"
   ]
  },
  {
   "cell_type": "code",
   "execution_count": 19,
   "metadata": {},
   "outputs": [],
   "source": [
    "x: int = 1"
   ]
  },
  {
   "cell_type": "code",
   "execution_count": 20,
   "metadata": {},
   "outputs": [],
   "source": [
    "x = 1.5"
   ]
  },
  {
   "cell_type": "code",
   "execution_count": null,
   "metadata": {},
   "outputs": [],
   "source": []
  }
 ],
 "metadata": {
  "kernelspec": {
   "display_name": "Python 3",
   "language": "python",
   "name": "python3"
  },
  "language_info": {
   "codemirror_mode": {
    "name": "ipython",
    "version": 3
   },
   "file_extension": ".py",
   "mimetype": "text/x-python",
   "name": "python",
   "nbconvert_exporter": "python",
   "pygments_lexer": "ipython3",
   "version": "3.7.0"
  }
 },
 "nbformat": 4,
 "nbformat_minor": 2
}
