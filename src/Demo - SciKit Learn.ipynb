{
 "cells": [
  {
   "cell_type": "markdown",
   "metadata": {},
   "source": [
    "# Demo - SciKit Learn\n",
    "* popular Python library providing efficient implementation of a large number of machine learning algorithms\n",
    "* purposely designed to be clean and uniform across tools\n",
    "* consistent data representation and common interface"
   ]
  },
  {
   "cell_type": "markdown",
   "metadata": {},
   "source": [
    "# SciKit Learn Data Representation\n",
    "<img style=\"height: 400px;\" src=\"images/scikit-learn-data.png\">"
   ]
  },
  {
   "cell_type": "code",
   "execution_count": 1,
   "metadata": {},
   "outputs": [
    {
     "data": {
      "text/html": [
       "<div>\n",
       "<style scoped>\n",
       "    .dataframe tbody tr th:only-of-type {\n",
       "        vertical-align: middle;\n",
       "    }\n",
       "\n",
       "    .dataframe tbody tr th {\n",
       "        vertical-align: top;\n",
       "    }\n",
       "\n",
       "    .dataframe thead th {\n",
       "        text-align: right;\n",
       "    }\n",
       "</style>\n",
       "<table border=\"1\" class=\"dataframe\">\n",
       "  <thead>\n",
       "    <tr style=\"text-align: right;\">\n",
       "      <th></th>\n",
       "      <th>sepal length (cm)</th>\n",
       "      <th>sepal width (cm)</th>\n",
       "      <th>petal length (cm)</th>\n",
       "      <th>petal width (cm)</th>\n",
       "      <th>target</th>\n",
       "    </tr>\n",
       "  </thead>\n",
       "  <tbody>\n",
       "    <tr>\n",
       "      <th>0</th>\n",
       "      <td>5.1</td>\n",
       "      <td>3.5</td>\n",
       "      <td>1.4</td>\n",
       "      <td>0.2</td>\n",
       "      <td>0.0</td>\n",
       "    </tr>\n",
       "    <tr>\n",
       "      <th>1</th>\n",
       "      <td>4.9</td>\n",
       "      <td>3.0</td>\n",
       "      <td>1.4</td>\n",
       "      <td>0.2</td>\n",
       "      <td>0.0</td>\n",
       "    </tr>\n",
       "    <tr>\n",
       "      <th>2</th>\n",
       "      <td>4.7</td>\n",
       "      <td>3.2</td>\n",
       "      <td>1.3</td>\n",
       "      <td>0.2</td>\n",
       "      <td>0.0</td>\n",
       "    </tr>\n",
       "    <tr>\n",
       "      <th>3</th>\n",
       "      <td>4.6</td>\n",
       "      <td>3.1</td>\n",
       "      <td>1.5</td>\n",
       "      <td>0.2</td>\n",
       "      <td>0.0</td>\n",
       "    </tr>\n",
       "    <tr>\n",
       "      <th>4</th>\n",
       "      <td>5.0</td>\n",
       "      <td>3.6</td>\n",
       "      <td>1.4</td>\n",
       "      <td>0.2</td>\n",
       "      <td>0.0</td>\n",
       "    </tr>\n",
       "  </tbody>\n",
       "</table>\n",
       "</div>"
      ],
      "text/plain": [
       "   sepal length (cm)  sepal width (cm)  petal length (cm)  petal width (cm)  \\\n",
       "0                5.1               3.5                1.4               0.2   \n",
       "1                4.9               3.0                1.4               0.2   \n",
       "2                4.7               3.2                1.3               0.2   \n",
       "3                4.6               3.1                1.5               0.2   \n",
       "4                5.0               3.6                1.4               0.2   \n",
       "\n",
       "   target  \n",
       "0     0.0  \n",
       "1     0.0  \n",
       "2     0.0  \n",
       "3     0.0  \n",
       "4     0.0  "
      ]
     },
     "execution_count": 1,
     "metadata": {},
     "output_type": "execute_result"
    }
   ],
   "source": [
    "%matplotlib inline\n",
    "import numpy as np\n",
    "import pandas as pd\n",
    "import matplotlib.pyplot as plt\n",
    "from sklearn import datasets\n",
    "\n",
    "np.random.seed(5)\n",
    "\n",
    "# load the iris dataset that ships with scikit learn\n",
    "iris = datasets.load_iris()\n",
    "dat = pd.DataFrame(data= np.c_[iris['data'], iris['target']],\n",
    "                   columns= iris['feature_names'] + ['target'])\n",
    "dat.head()"
   ]
  },
  {
   "cell_type": "code",
   "execution_count": 2,
   "metadata": {},
   "outputs": [
    {
     "data": {
      "text/plain": [
       "(150, 4)"
      ]
     },
     "execution_count": 2,
     "metadata": {},
     "output_type": "execute_result"
    }
   ],
   "source": [
    "# Set up the feature matrix\n",
    "X_iris = dat.drop('target', axis=1)\n",
    "X_iris.shape"
   ]
  },
  {
   "cell_type": "code",
   "execution_count": 3,
   "metadata": {},
   "outputs": [
    {
     "data": {
      "text/plain": [
       "(150,)"
      ]
     },
     "execution_count": 3,
     "metadata": {},
     "output_type": "execute_result"
    }
   ],
   "source": [
    "# Set up the target vector\n",
    "y_iris = iris['target']\n",
    "y_iris.shape"
   ]
  },
  {
   "cell_type": "markdown",
   "metadata": {},
   "source": [
    "# scikit-learn Objects\n",
    "* \"All objects within scikit-learn share a uniform common basic API consisting of three complementary interfaces: an estimator interface for building and fitting models, a predictor interface for making predictions and a transformer interface for converting data.\"\n",
    "<br>__*API design for machine learning software:\n",
    "experiences from the scikit-learn project*__ (https://arxiv.org/pdf/1309.0238.pdf)"
   ]
  },
  {
   "cell_type": "markdown",
   "metadata": {},
   "source": [
    "# Estimator API\n",
    "* Driven by a set of principles documented in the above paper:\n",
    "  * Consistency\n",
    "  * Allow Inspection\n",
    "  * Limited object hierarchies\n",
    "  * Composition\n",
    "  * Sensible defaults"
   ]
  },
  {
   "cell_type": "markdown",
   "metadata": {},
   "source": [
    "# General Workflow\n",
    "* Choose a model\n",
    "* Choose model hyperparameters\n",
    "* Arrange data into a features matrix and target vector\n",
    "* Fit the model to the data with the __`fit()`__ method\n",
    "* Apply the model to test data (__`predict()`__ or __`transform()`__)"
   ]
  },
  {
   "cell_type": "code",
   "execution_count": 9,
   "metadata": {},
   "outputs": [
    {
     "data": {
      "text/plain": [
       "DecisionTreeClassifier(class_weight=None, criterion='gini', max_depth=2,\n",
       "            max_features=None, max_leaf_nodes=None,\n",
       "            min_impurity_decrease=0.0, min_impurity_split=None,\n",
       "            min_samples_leaf=1, min_samples_split=2,\n",
       "            min_weight_fraction_leaf=0.0, presort=False, random_state=None,\n",
       "            splitter='best')"
      ]
     },
     "execution_count": 9,
     "metadata": {},
     "output_type": "execute_result"
    }
   ],
   "source": [
    "from sklearn.tree import DecisionTreeClassifier\n",
    "tree_clf = DecisionTreeClassifier(max_depth=2)\n",
    "\n",
    "# Let's split out dataset into training and test, in order to \n",
    "# see how well our model actually does.\n",
    "from sklearn.model_selection import train_test_split\n",
    "X_train, X_test, y_train, y_test = train_test_split(X_iris, y_iris)\n",
    "tree_clf.fit(X_train, y_train)"
   ]
  },
  {
   "cell_type": "code",
   "execution_count": 10,
   "metadata": {},
   "outputs": [
    {
     "data": {
      "text/plain": [
       "(38, 4)"
      ]
     },
     "execution_count": 10,
     "metadata": {},
     "output_type": "execute_result"
    }
   ],
   "source": [
    "X_test.shape"
   ]
  },
  {
   "cell_type": "code",
   "execution_count": 11,
   "metadata": {},
   "outputs": [
    {
     "name": "stdout",
     "output_type": "stream",
     "text": [
      "prediction for [[5.  2.  3.5 1. ]] is 1 actual is 1\n",
      "prediction for [[5.7 4.4 1.5 0.4]] is 0 actual is 0\n",
      "prediction for [[5.2 3.5 1.5 0.2]] is 0 actual is 0\n",
      "prediction for [[5.7 2.6 3.5 1. ]] is 1 actual is 1\n",
      "prediction for [[6.4 2.9 4.3 1.3]] is 1 actual is 1\n",
      "prediction for [[4.6 3.6 1.  0.2]] is 0 actual is 0\n",
      "prediction for [[5.7 2.9 4.2 1.3]] is 1 actual is 1\n",
      "prediction for [[6.3 2.9 5.6 1.8]] is 2 actual is 2\n",
      "prediction for [[6.7 3.1 5.6 2.4]] is 2 actual is 2\n",
      "prediction for [[6.8 3.  5.5 2.1]] is 2 actual is 2\n",
      "prediction for [[7.4 2.8 6.1 1.9]] is 2 actual is 2\n",
      "prediction for [[5.9 3.2 4.8 1.8]] is 2 actual is 1*\n",
      "prediction for [[5.7 2.8 4.1 1.3]] is 1 actual is 1\n",
      "prediction for [[4.7 3.2 1.3 0.2]] is 0 actual is 0\n",
      "prediction for [[5.8 2.7 3.9 1.2]] is 1 actual is 1\n",
      "prediction for [[5.5 4.2 1.4 0.2]] is 0 actual is 0\n",
      "prediction for [[7.2 3.2 6.  1.8]] is 2 actual is 2\n",
      "prediction for [[5.1 3.8 1.5 0.3]] is 0 actual is 0\n",
      "prediction for [[6.  2.7 5.1 1.6]] is 2 actual is 1*\n",
      "prediction for [[4.3 3.  1.1 0.1]] is 0 actual is 0\n",
      "prediction for [[6.6 3.  4.4 1.4]] is 1 actual is 1\n",
      "prediction for [[6.9 3.1 5.1 2.3]] is 2 actual is 2\n",
      "prediction for [[5.6 2.8 4.9 2. ]] is 2 actual is 2\n",
      "prediction for [[6.2 2.2 4.5 1.5]] is 1 actual is 1\n",
      "prediction for [[5.4 3.4 1.7 0.2]] is 0 actual is 0\n",
      "prediction for [[5.  3.3 1.4 0.2]] is 0 actual is 0\n",
      "prediction for [[4.6 3.1 1.5 0.2]] is 0 actual is 0\n",
      "prediction for [[4.4 3.  1.3 0.2]] is 0 actual is 0\n",
      "prediction for [[6.3 2.5 4.9 1.5]] is 2 actual is 1*\n",
      "prediction for [[5.2 3.4 1.4 0.2]] is 0 actual is 0\n",
      "prediction for [[6.3 3.3 4.7 1.6]] is 1 actual is 1\n",
      "prediction for [[6.2 2.8 4.8 1.8]] is 2 actual is 2\n",
      "prediction for [[5.4 3.7 1.5 0.2]] is 0 actual is 0\n",
      "prediction for [[4.9 3.1 1.5 0.1]] is 0 actual is 0\n",
      "prediction for [[4.4 2.9 1.4 0.2]] is 0 actual is 0\n",
      "prediction for [[5.1 3.7 1.5 0.4]] is 0 actual is 0\n",
      "prediction for [[6.4 2.8 5.6 2.2]] is 2 actual is 2\n",
      "prediction for [[5.8 4.  1.2 0.2]] is 0 actual is 0\n",
      "0.9210526315789473\n"
     ]
    }
   ],
   "source": [
    "# Let's check the test data, one by one, and see how\n",
    "# many we got right.\n",
    "correct = 0\n",
    "\n",
    "for i in range(X_test.shape[0]):\n",
    "    row = X_test.iloc[i, :]\n",
    "    pred = tree_clf.predict(row[np.newaxis, :])\n",
    "    print('prediction for', row[np.newaxis, :], \n",
    "          'is', pred[0], 'actual is', y_test[i], end='')\n",
    "    if pred[0] == y_test[i]:\n",
    "        correct += 1\n",
    "    else:\n",
    "        print('*', end='')\n",
    "    print()\n",
    "print(correct / X_test.shape[0])"
   ]
  },
  {
   "cell_type": "code",
   "execution_count": 12,
   "metadata": {},
   "outputs": [
    {
     "data": {
      "text/plain": [
       "0.9210526315789473"
      ]
     },
     "execution_count": 12,
     "metadata": {},
     "output_type": "execute_result"
    }
   ],
   "source": [
    "tree_clf.score(X_test, y_test)"
   ]
  },
  {
   "cell_type": "code",
   "execution_count": 13,
   "metadata": {},
   "outputs": [
    {
     "data": {
      "image/png": "[encoded data removed]",
      "text/plain": [
       "<Figure size 432x288 with 1 Axes>"
      ]
     },
     "metadata": {
      "needs_background": "light"
     },
     "output_type": "display_data"
    }
   ],
   "source": [
    "from sklearn.cluster import KMeans\n",
    "from sklearn.datasets import make_blobs\n",
    "\n",
    "# create 100 random data points in 3 isotropic (uniform in all dimensions) blobs\n",
    "X, y = make_blobs(random_state=9)\n",
    "plt.scatter(X[:, 0], X[:, 1], c=y);"
   ]
  },
  {
   "cell_type": "code",
   "execution_count": 14,
   "metadata": {},
   "outputs": [
    {
     "data": {
      "image/png": "[encoded data removed]",
      "text/plain": [
       "<Figure size 432x288 with 1 Axes>"
      ]
     },
     "metadata": {
      "needs_background": "light"
     },
     "output_type": "display_data"
    }
   ],
   "source": [
    "# Now let's do a K-means clustering...\n",
    "# Since we made 3 blobs, the algorithm should do well with 3 clusters\n",
    "kmeans = KMeans(n_clusters=3)\n",
    "kmeans.fit(X)\n",
    "plt.scatter(X[:, 0], X[:, 1], c=kmeans.labels_)\n",
    "centers = kmeans.cluster_centers_\n",
    "# mark the centers of each cluster, as determined by the K-means algorithm\n",
    "plt.scatter(centers[:, 0], centers[:, 1], c='blue', s=300, marker='x');"
   ]
  },
  {
   "cell_type": "code",
   "execution_count": 15,
   "metadata": {},
   "outputs": [
    {
     "data": {
      "image/png": "[encoded data removed]",
      "text/plain": [
       "<Figure size 432x288 with 1 Axes>"
      ]
     },
     "metadata": {
      "needs_background": "light"
     },
     "output_type": "display_data"
    }
   ],
   "source": [
    "# let's try it with 5 clusters\n",
    "kmeans = KMeans(n_clusters=5)\n",
    "kmeans.fit(X)\n",
    "plt.scatter(X[:, 0], X[:, 1], c=kmeans.labels_)\n",
    "centers = kmeans.cluster_centers_\n",
    "plt.scatter(centers[:, 0], centers[:, 1], c='black', s=200, marker='x');"
   ]
  },
  {
   "cell_type": "code",
   "execution_count": null,
   "metadata": {},
   "outputs": [],
   "source": []
  }
 ],
 "metadata": {
  "kernelspec": {
   "display_name": "Python 3",
   "language": "python",
   "name": "python3"
  },
  "language_info": {
   "codemirror_mode": {
    "name": "ipython",
    "version": 3
   },
   "file_extension": ".py",
   "mimetype": "text/x-python",
   "name": "python",
   "nbconvert_exporter": "python",
   "pygments_lexer": "ipython3",
   "version": "3.7.0"
  }
 },
 "nbformat": 4,
 "nbformat_minor": 2
}
