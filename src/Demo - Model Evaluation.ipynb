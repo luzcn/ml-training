{
 "cells": [
  {
   "cell_type": "markdown",
   "metadata": {},
   "source": [
    "# Model Evaluation\n",
    "* What we've done so far to evaluate our supervised models:\n",
    " * split our dataset into a training set and a test: __`train_test_split()`__\n",
    " * built a model on the training set: __`fit()`__\n",
    " * evaluated the model it on the test set: __`score()`__"
   ]
  },
  {
   "cell_type": "code",
   "execution_count": 1,
   "metadata": {},
   "outputs": [
    {
     "name": "stdout",
     "output_type": "stream",
     "text": [
      "[[ 2.63185834  0.6893649 ]\n",
      " [ 0.08080352  4.69068983]\n",
      " [ 3.00251949  0.74265357]\n",
      " [-0.63762777  4.09104705]\n",
      " [-0.07228289  2.88376939]\n",
      " [ 0.62835793  4.4601363 ]\n",
      " [-2.67437267  2.48006222]\n",
      " [-0.57748321  3.0054335 ]\n",
      " [ 2.72756228  1.3051255 ]\n",
      " [ 0.34194798  3.94104616]\n",
      " [ 1.70536064  4.43277024]\n",
      " [ 2.20656076  5.50616718]\n",
      " [ 2.52092996 -0.63858003]\n",
      " [ 2.50904929  5.7731461 ]\n",
      " [-2.27165884  2.09144372]\n",
      " [ 3.92282648  1.80370832]\n",
      " [-1.62535654  2.25440397]\n",
      " [ 0.1631238   2.57750473]\n",
      " [-1.59514562  4.63122498]\n",
      " [-2.63128735  2.97004734]\n",
      " [-2.17052242  0.69447911]\n",
      " [-1.56618683  1.74978876]\n",
      " [-0.88677249  1.30092622]\n",
      " [ 0.08848433  2.32299086]\n",
      " [ 0.9845149   1.95211539]\n",
      " [ 2.18217961  1.29965302]\n",
      " [ 1.28535145  1.43691285]\n",
      " [ 0.89011768  1.79849015]\n",
      " [-1.89608585  2.67850308]\n",
      " [-0.75511346  3.74138642]\n",
      " [ 1.12031365  5.75806083]\n",
      " [ 3.54351972  2.79355284]\n",
      " [ 1.64164854  0.15020885]\n",
      " [ 2.47034915  4.09862906]\n",
      " [-1.98243652  2.93536142]\n",
      " [ 0.85624076  3.86236175]\n",
      " [ 0.87305123  4.71438583]\n",
      " [ 1.38093486  0.92949422]\n",
      " [ 2.41163392  1.60423683]\n",
      " [-2.26646701  4.46089686]\n",
      " [-0.40026809  1.83795075]\n",
      " [ 2.45760916  0.21285357]\n",
      " [ 2.3535057   2.22404956]\n",
      " [-0.73000011  6.25456272]\n",
      " [ 1.1312175   4.68194985]\n",
      " [ 0.4666179   3.86571303]\n",
      " [ 1.18447037  0.318814  ]\n",
      " [ 1.36069966  0.74802912]\n",
      " [-2.43972624  4.03489855]\n",
      " [-1.00362735  2.74633593]\n",
      " [ 0.63633194  4.25441021]\n",
      " [ 1.41942144  1.57409695]\n",
      " [ 0.06897171  4.35573272]\n",
      " [ 2.2635425   1.8743027 ]\n",
      " [-2.02493646  4.84741432]\n",
      " [-0.6700734   2.26685667]\n",
      " [ 3.23404709  0.71773882]\n",
      " [ 2.06576754  2.68353415]\n",
      " [ 1.0220286   4.11660348]\n",
      " [ 3.93841822 -0.4500954 ]\n",
      " [ 0.78478252  1.86706037]\n",
      " [-2.81976092  3.18493313]\n",
      " [-2.33031368  2.22833248]\n",
      " [-1.36023052  3.5529137 ]\n",
      " [-3.01816161  3.35727396]\n",
      " [ 1.65209057  2.12010873]\n",
      " [ 1.7373078   4.42546234]\n",
      " [-2.52711936  1.37311116]\n",
      " [ 1.74371499  0.953829  ]\n",
      " [ 1.9263585   4.15243012]\n",
      " [-0.60604519  3.23660991]\n",
      " [ 3.2460247   2.84942165]\n",
      " [-1.57671974  4.95740592]\n",
      " [ 3.97820955  2.37817845]\n",
      " [ 1.19404184  2.80772861]\n",
      " [ 2.11567076  3.06896151]\n",
      " [ 1.15369622  3.90200639]\n",
      " [ 0.30380963  3.94423417]\n",
      " [-1.88089792  1.54293097]\n",
      " [ 2.43169305 -0.20173713]\n",
      " [-0.27652528  5.08127768]\n",
      " [ 1.0427873   4.60625923]\n",
      " [ 1.78726415  1.70012006]\n",
      " [-0.65392827  4.76656958]\n",
      " [ 0.88214412  2.84128485]\n",
      " [ 1.42013331  4.63746165]\n",
      " [ 0.94808785  4.7321192 ]\n",
      " [ 0.46546494  3.12315514]\n",
      " [ 2.66934689  1.81987033]\n",
      " [ 0.58894326  4.00148458]\n",
      " [ 1.62011397  2.74692739]\n",
      " [ 2.45127423 -0.19539785]\n",
      " [-0.42724442  3.57314599]\n",
      " [-2.56114686  3.59947678]\n",
      " [-2.84281142  2.45629766]\n",
      " [-0.33887422  3.23482487]\n",
      " [ 1.28933778  3.44969159]\n",
      " [ 1.84070628  3.56162231]\n",
      " [-0.90167256  1.31582461]\n",
      " [-2.75233953  3.76224524]] [1 0 1 0 0 0 2 2 1 0 0 0 1 0 2 1 2 0 2 2 2 2 2 0 1 1 1 1 2 2 0 1 1 0 2 2 0\n",
      " 1 1 2 2 1 1 0 0 0 1 1 2 2 2 1 0 1 2 2 1 1 0 1 1 2 2 2 2 1 0 2 1 0 2 0 0 1\n",
      " 1 0 0 0 2 1 0 0 1 0 1 0 0 0 1 0 1 1 2 2 2 2 0 0 2 2]\n",
      "Test set score: 0.88\n"
     ]
    }
   ],
   "source": [
    "from sklearn.datasets import make_blobs\n",
    "from sklearn.linear_model import LogisticRegression\n",
    "from sklearn.model_selection import train_test_split\n",
    "# create a synthetic dataset\n",
    "X, y = make_blobs(random_state=0)\n",
    "print(X, y)\n",
    "# split data and labels into a training and a test set\n",
    "X_train, X_test, y_train, y_test = train_test_split(X, y, random_state=0)\n",
    "# instantiate a model and fit it to the training set\n",
    "logreg = LogisticRegression().fit(X_train, y_train)\n",
    "# evaluate the model on the test set\n",
    "print(\"Test set score: {:.2f}\".format(logreg.score(X_test, y_test)))"
   ]
  },
  {
   "cell_type": "markdown",
   "metadata": {},
   "source": [
    "# What are we actually interested in measuring?\n",
    "* how well our model generalizes to new, unseen data\n",
    "* (...NOT how well our model fit the training data)"
   ]
  },
  {
   "cell_type": "markdown",
   "metadata": {},
   "source": [
    "# Cross Validation\n",
    "* a statistical method of evaluating generalization performance\n",
    "* more stable and thorough than using a split into a training and a test set\n",
    "* instead, data is split repeatedly and multiple models are trained\n",
    "* most common method of cross-validation is _k-fold_ cross-validation (k = 5 or 10)"
   ]
  },
  {
   "cell_type": "code",
   "execution_count": 2,
   "metadata": {},
   "outputs": [
    {
     "name": "stdout",
     "output_type": "stream",
     "text": [
      "Cross-validation scores: [0.96078431 0.92156863 0.95833333]\n"
     ]
    }
   ],
   "source": [
    "from sklearn.model_selection import cross_val_score\n",
    "from sklearn.datasets import load_iris\n",
    "from sklearn.linear_model import LogisticRegression\n",
    "iris = load_iris()\n",
    "logreg = LogisticRegression()\n",
    "scores = cross_val_score(logreg, iris.data, iris.target)\n",
    "print(\"Cross-validation scores: {}\".format(scores))"
   ]
  },
  {
   "cell_type": "markdown",
   "metadata": {},
   "source": [
    "* How many folds were there by default?\n",
    "* Let's increase that to see if we do better..."
   ]
  },
  {
   "cell_type": "code",
   "execution_count": 3,
   "metadata": {},
   "outputs": [
    {
     "name": "stdout",
     "output_type": "stream",
     "text": [
      "Cross-validation scores: [1.         0.96666667 0.93333333 0.9        1.        ]\n"
     ]
    }
   ],
   "source": [
    "scores = cross_val_score(logreg, iris.data, iris.target, cv=5)\n",
    "print(\"Cross-validation scores: {}\".format(scores))"
   ]
  },
  {
   "cell_type": "code",
   "execution_count": 4,
   "metadata": {},
   "outputs": [
    {
     "name": "stdout",
     "output_type": "stream",
     "text": [
      "Average cross-validation score: 0.96\n"
     ]
    }
   ],
   "source": [
    "print(\"Average cross-validation score: {:.2f}\".format(scores.mean()))"
   ]
  },
  {
   "cell_type": "markdown",
   "metadata": {},
   "source": [
    "* we can conclude that we expect the model to be around 96% accurate on average\n",
    "* relatively high variance in the accuracy between folds, ranging from 90-100%\n",
    " * model could be very dependent on the particular folds used for training\n",
    " * could also just be a consequence of the small size of the dataset"
   ]
  },
  {
   "cell_type": "markdown",
   "metadata": {},
   "source": [
    "# Uh-Oh!"
   ]
  },
  {
   "cell_type": "code",
   "execution_count": 5,
   "metadata": {},
   "outputs": [
    {
     "name": "stdout",
     "output_type": "stream",
     "text": [
      "Iris labels:\n",
      "[0 0 0 0 0 0 0 0 0 0 0 0 0 0 0 0 0 0 0 0 0 0 0 0 0 0 0 0 0 0 0 0 0 0 0 0 0\n",
      " 0 0 0 0 0 0 0 0 0 0 0 0 0 1 1 1 1 1 1 1 1 1 1 1 1 1 1 1 1 1 1 1 1 1 1 1 1\n",
      " 1 1 1 1 1 1 1 1 1 1 1 1 1 1 1 1 1 1 1 1 1 1 1 1 1 1 2 2 2 2 2 2 2 2 2 2 2\n",
      " 2 2 2 2 2 2 2 2 2 2 2 2 2 2 2 2 2 2 2 2 2 2 2 2 2 2 2 2 2 2 2 2 2 2 2 2 2\n",
      " 2 2]\n"
     ]
    }
   ],
   "source": [
    "from sklearn.datasets import load_iris\n",
    "iris = load_iris()\n",
    "print(\"Iris labels:\\n{}\".format(iris.target))"
   ]
  },
  {
   "cell_type": "markdown",
   "metadata": {},
   "source": [
    "* If the data is structured in a certain way (like this) we can have major variation between the folds.\n",
    "* Even with the folding model, the data structure itself can cause issues."
   ]
  },
  {
   "cell_type": "markdown",
   "metadata": {},
   "source": [
    "# Stratified Cross Validation"
   ]
  },
  {
   "cell_type": "markdown",
   "metadata": {},
   "source": [
    "* Split the data such that the proportions between classes are the same in each fold as they are in the whole dataset\n",
    "![alt-text](images/cv-2.png)"
   ]
  },
  {
   "cell_type": "markdown",
   "metadata": {},
   "source": [
    "# KFold Validation"
   ]
  },
  {
   "cell_type": "code",
   "execution_count": 7,
   "metadata": {},
   "outputs": [],
   "source": [
    "from sklearn.model_selection import KFold\n",
    "kfold = KFold(n_splits=5)"
   ]
  },
  {
   "cell_type": "code",
   "execution_count": 8,
   "metadata": {},
   "outputs": [
    {
     "name": "stdout",
     "output_type": "stream",
     "text": [
      "Cross-validation scores:\n",
      "[1.         0.93333333 0.43333333 0.96666667 0.43333333]\n"
     ]
    }
   ],
   "source": [
    "print(\"Cross-validation scores:\\n{}\".format(\n",
    "    cross_val_score(logreg, iris.data, iris.target, cv=kfold)))"
   ]
  },
  {
   "cell_type": "code",
   "execution_count": 9,
   "metadata": {},
   "outputs": [
    {
     "name": "stdout",
     "output_type": "stream",
     "text": [
      "Counter({'versicolor': 50, 'virginica': 50, 'setosa': 20})\n",
      "Counter({'virginica': 50, 'versicolor': 40, 'setosa': 30})\n",
      "Counter({'setosa': 50, 'virginica': 50, 'versicolor': 20})\n",
      "Counter({'setosa': 50, 'versicolor': 40, 'virginica': 30})\n",
      "Counter({'setosa': 50, 'versicolor': 50, 'virginica': 20})\n"
     ]
    }
   ],
   "source": [
    "from collections import Counter\n",
    "\n",
    "def show_fold_contents(kf):\n",
    "    for fold in kf.split(iris.data):\n",
    "        c = Counter()\n",
    "        for datapoint in fold[0]:\n",
    "            c.update([iris.target_names[iris.target[datapoint]]])\n",
    "        print(c)\n",
    "        \n",
    "show_fold_contents(kfold)"
   ]
  },
  {
   "cell_type": "code",
   "execution_count": 10,
   "metadata": {},
   "outputs": [
    {
     "name": "stdout",
     "output_type": "stream",
     "text": [
      "Cross-validation scores:\n",
      "[0. 0. 0.]\n"
     ]
    }
   ],
   "source": [
    "kfold = KFold(n_splits=3)\n",
    "print(\"Cross-validation scores:\\n{}\".format(\n",
    "    cross_val_score(logreg, iris.data, iris.target, cv=kfold)))"
   ]
  },
  {
   "cell_type": "code",
   "execution_count": 11,
   "metadata": {},
   "outputs": [
    {
     "name": "stdout",
     "output_type": "stream",
     "text": [
      "Counter({'versicolor': 50, 'virginica': 50})\n",
      "Counter({'setosa': 50, 'virginica': 50})\n",
      "Counter({'setosa': 50, 'versicolor': 50})\n"
     ]
    }
   ],
   "source": [
    "show_fold_contents(kfold)"
   ]
  },
  {
   "cell_type": "markdown",
   "metadata": {},
   "source": [
    "* What happened between 3 and 5 splits?"
   ]
  },
  {
   "cell_type": "code",
   "execution_count": 12,
   "metadata": {},
   "outputs": [
    {
     "name": "stdout",
     "output_type": "stream",
     "text": [
      "Cross-validation scores:\n",
      "[0.9  0.96 0.96]\n"
     ]
    }
   ],
   "source": [
    "kfold = KFold(n_splits=3, shuffle=True, random_state=0)\n",
    "print(\"Cross-validation scores:\\n{}\".format(\n",
    "    cross_val_score(logreg, iris.data, iris.target, cv=kfold)))"
   ]
  },
  {
   "cell_type": "markdown",
   "metadata": {},
   "source": [
    "# Leave One Out Validation"
   ]
  },
  {
   "cell_type": "code",
   "execution_count": 13,
   "metadata": {},
   "outputs": [
    {
     "name": "stdout",
     "output_type": "stream",
     "text": [
      "Number of cv iterations:  150\n",
      "Mean accuracy: 0.95\n"
     ]
    }
   ],
   "source": [
    "from sklearn.model_selection import LeaveOneOut\n",
    "loo = LeaveOneOut()\n",
    "scores = cross_val_score(logreg, iris.data, iris.target, cv=loo)\n",
    "print(\"Number of cv iterations: \", len(scores))\n",
    "print(\"Mean accuracy: {:.2f}\".format(scores.mean()))"
   ]
  },
  {
   "cell_type": "markdown",
   "metadata": {},
   "source": [
    "* Another type of cross-fold\n",
    "* Train on everything but one sample, rotate and do it again, leaving out a different sample.\n",
    "* What is the tradeoff?"
   ]
  },
  {
   "cell_type": "markdown",
   "metadata": {},
   "source": [
    "# Shuffle Split Cross Validation"
   ]
  },
  {
   "cell_type": "markdown",
   "metadata": {},
   "source": [
    "![alt-text](images/cv-3.png)\n",
    "* Combine shuffle with split with cross validation\n",
    "* The data blender is on \"High\" now"
   ]
  },
  {
   "cell_type": "code",
   "execution_count": 14,
   "metadata": {},
   "outputs": [
    {
     "name": "stdout",
     "output_type": "stream",
     "text": [
      "Cross-validation scores:\n",
      " [0.97368421 0.97368421 0.86842105 0.94736842 0.81578947 0.92105263\n",
      " 0.94736842 0.94736842 0.97368421 0.89473684]\n"
     ]
    }
   ],
   "source": [
    "from sklearn.model_selection import ShuffleSplit\n",
    "shuffle_split = ShuffleSplit(test_size=.25, train_size=.75, n_splits=10)\n",
    "scores = cross_val_score(logreg, iris.data, iris.target, cv=shuffle_split)\n",
    "print('Cross-validation scores:\\n', scores)"
   ]
  },
  {
   "cell_type": "markdown",
   "metadata": {},
   "source": [
    "# GroupKFold Validation"
   ]
  },
  {
   "cell_type": "markdown",
   "metadata": {},
   "source": [
    "* suppose we want to build a system to recognize emotions from pictures of faces\n",
    "\n",
    "![alt-text](images/emotions.jpg)"
   ]
  },
  {
   "cell_type": "markdown",
   "metadata": {},
   "source": [
    "* we collect a dataset of pictures of 100 people\n",
    " * each person is captured multiple times, showing various emotions\n",
    "* goal is to build a classifier that correctly identifies emotions of people not in the dataset\n",
    "* you could use the default stratified cross-validation to measure the performance of a classifier\n",
    "* however, it's likely that pictures of the same person will be in both training and test set\n",
    "* much easier for a classifier to detect emotions in a face that is part of the training set, compared to a completely new face\n",
    "* in order to accurately evaluate generalization to new faces, we must ensure that  training and test sets contain images of different people\n",
    "* to do this, we can use GroupKFold, which takes an array of groups as argument that we can use to indicate which person is in the image\n",
    "* the groups array here indicates groups in the data that should not be split when creating the training and test sets, and should not be confused with the class label\n",
    "![alt-text](images/cv-4.png)"
   ]
  },
  {
   "cell_type": "code",
   "execution_count": 15,
   "metadata": {},
   "outputs": [
    {
     "name": "stdout",
     "output_type": "stream",
     "text": [
      "Cross-validation scores:\n",
      " [0.75       0.8        0.66666667]\n"
     ]
    }
   ],
   "source": [
    "from sklearn.model_selection import GroupKFold\n",
    "# create synthetic dataset\n",
    "X, y = make_blobs(n_samples=12, random_state=0)\n",
    "# assume the first three samples belong to the same group,\n",
    "# then the next four, etc.\n",
    "groups = [0, 0, 0, 1, 1, 1, 1, 2, 2, 3, 3, 3]\n",
    "scores = cross_val_score(logreg, X, y, groups, cv=GroupKFold(n_splits=3))\n",
    "print(\"Cross-validation scores:\\n\", scores)"
   ]
  },
  {
   "cell_type": "code",
   "execution_count": 16,
   "metadata": {},
   "outputs": [],
   "source": [
    "# Müller and Guido"
   ]
  },
  {
   "cell_type": "markdown",
   "metadata": {},
   "source": [
    "# Model Performance - Linear Classifiers\n",
    "![alt-text](images/svc.png)"
   ]
  },
  {
   "cell_type": "markdown",
   "metadata": {},
   "source": [
    "# Regularization Parameters\n",
    "* Do we care more about generalizing, or getting things right?\n",
    "* Support Vector Machines have hyperparameters C and gamma\n",
    "* C = _cost_ for making errors\n",
    "  * A large C gives you low bias and high variance\n",
    "  * A small C gives you higher bias and lower variance\n",
    "\n",
    "![alt-text](images/svc-1.png)"
   ]
  },
  {
   "cell_type": "markdown",
   "metadata": {},
   "source": [
    "### gamma = kernel coefficient for ‘rbf’, ‘poly’ and ‘sigmoid’\n",
    " * higher values of gamma will result in exact fit as per training data set, i.e., generalization error and overfitting\n",
    " * gamma control how \"pointy\" the peaks are–low gamma = smooth, higher gamma = pointy\n",
    "\n",
    "![alt-text](images/gamma.png)"
   ]
  },
  {
   "cell_type": "code",
   "execution_count": 17,
   "metadata": {},
   "outputs": [
    {
     "name": "stdout",
     "output_type": "stream",
     "text": [
      "Size of training set: 112   size of test set: 38\n",
      "Best score: 0.97\n",
      "Best parameters: {'C': 100, 'gamma': 0.001}\n"
     ]
    }
   ],
   "source": [
    "# naive grid search implementation\n",
    "from sklearn.svm import SVC\n",
    "X_train, X_test, y_train, y_test = train_test_split(\n",
    "                    iris.data, iris.target, random_state=0)\n",
    "print(\"Size of training set: {}   size of test set: {}\".format(\n",
    "         X_train.shape[0], X_test.shape[0]))\n",
    "\n",
    "best_score = 0\n",
    "\n",
    "for gamma in [0.001, 0.01, 0.1, 1, 10, 100]:\n",
    "    for C in [0.001, 0.01, 0.1, 1, 10, 100]:\n",
    "        # for each combination of parameters, train an SVC\n",
    "        svm = SVC(gamma=gamma, C=C)\n",
    "        svm.fit(X_train, y_train)\n",
    "        # evaluate the SVC on the test set\n",
    "        score = svm.score(X_test, y_test)\n",
    "        # if we got a better score, store the score and parameters\n",
    "        if score > best_score:\n",
    "            best_score = score\n",
    "            best_parameters = {'C': C, 'gamma': gamma}\n",
    "\n",
    "print(\"Best score: {:.2f}\".format(best_score))\n",
    "print(\"Best parameters: {}\".format(best_parameters))"
   ]
  },
  {
   "cell_type": "markdown",
   "metadata": {},
   "source": [
    "# What's the problem with the above?"
   ]
  },
  {
   "cell_type": "markdown",
   "metadata": {},
   "source": [
    "# Train-Validate-Test"
   ]
  },
  {
   "cell_type": "markdown",
   "metadata": {},
   "source": [
    "![alt-text](images/train-validate-test.png)\n",
    "### Split the data 3 ways now....\n",
    "* Training (to train the model on)\n",
    "* Validation (to refine hyperparameters on)\n",
    "* Test ( to actually test)"
   ]
  },
  {
   "cell_type": "code",
   "execution_count": 18,
   "metadata": {},
   "outputs": [],
   "source": [
    "from sklearn.svm import SVC\n",
    "# split data into train+validation set and test set\n",
    "X_trainval, X_test, y_trainval, y_test = train_test_split(\n",
    "    iris.data, iris.target, random_state=0)"
   ]
  },
  {
   "cell_type": "code",
   "execution_count": 19,
   "metadata": {},
   "outputs": [
    {
     "data": {
      "text/plain": [
       "84"
      ]
     },
     "execution_count": 19,
     "metadata": {},
     "output_type": "execute_result"
    }
   ],
   "source": [
    "# split train+validation set into training and validation sets\n",
    "X_train, X_valid, y_train, y_valid = train_test_split(\n",
    "    X_trainval, y_trainval, random_state=1)\n",
    "len(X_train)"
   ]
  },
  {
   "cell_type": "code",
   "execution_count": 20,
   "metadata": {},
   "outputs": [
    {
     "name": "stdout",
     "output_type": "stream",
     "text": [
      "0.9642857142857143 {'C': 10, 'gamma': 0.001}\n"
     ]
    }
   ],
   "source": [
    "best_score = 0\n",
    "for gamma in [0.001, 0.01, 0.1, 1, 10, 100]:\n",
    "    for C in [0.001, 0.01, 0.1, 1, 10, 100]:\n",
    "        # for each combination of parameters train an SVC\n",
    "        svm = SVC(gamma=gamma, C=C)\n",
    "        svm.fit(X_train, y_train)\n",
    "        # evaluate the SVC on the validation set\n",
    "        score = svm.score(X_valid, y_valid)\n",
    "        # if we got a better score, store the score and parameters\n",
    "        if score > best_score:\n",
    "            best_score = score\n",
    "            best_parameters = {'C': C, 'gamma': gamma}\n",
    "            \n",
    "print(best_score, best_parameters)"
   ]
  },
  {
   "cell_type": "markdown",
   "metadata": {},
   "source": [
    "### A note about ** the syntax below\n",
    "* __`best_parameters`__ is a dict(ionary), i.e., a group of key/value pairs\n",
    "* the __`SVC`__ method accepts _keyword arguments_, meaning instead of just passing the args directly, they have to be passed as __`key=value`__ arguments\n",
    "* prefacing a dict with __`**`__ causes the key/value pairs in the dict to be \"exploded\" into __`key=value`__ arguments"
   ]
  },
  {
   "cell_type": "code",
   "execution_count": 23,
   "metadata": {},
   "outputs": [
    {
     "name": "stdout",
     "output_type": "stream",
     "text": [
      "arg x is 3\n",
      "arg y is 4\n",
      "arg z is 5\n",
      "done\n",
      "arg x is 1\n",
      "arg y is 2\n",
      "arg z is 3\n",
      "done\n"
     ]
    }
   ],
   "source": [
    "def func(x, y, z):\n",
    "    print('arg x is', x)\n",
    "    print('arg y is', y)\n",
    "    print('arg z is', z)\n",
    "    print('done')\n",
    "\n",
    "func(3, 4, 5)\n",
    "d = { 'x': 1, 'z': 3, 'y': 2 }\n",
    "func(**d)\n",
    "#func(**d) # becomes func(x=1, y=2, z=3)"
   ]
  },
  {
   "cell_type": "code",
   "execution_count": 24,
   "metadata": {},
   "outputs": [
    {
     "name": "stdout",
     "output_type": "stream",
     "text": [
      "Size of training set: 84 size of validation set: 28 size of test set: 38\n",
      "Best score on validation set: 0.96\n",
      "Best parameters:  {'C': 10, 'gamma': 0.001}\n",
      "Test set score with best parameters: 0.92\n"
     ]
    }
   ],
   "source": [
    "print(\"Size of training set: {} size of validation set: {} size of test set: {}\".format(\n",
    "         X_train.shape[0], X_valid.shape[0], X_test.shape[0]))\n",
    "# rebuild a model on the combined training and validation set,\n",
    "# and evaluate it on the test set\n",
    "svm = SVC(**best_parameters)\n",
    "svm.fit(X_trainval, y_trainval)\n",
    "test_score = svm.score(X_test, y_test)\n",
    "print(\"Best score on validation set: {:.2f}\".format(best_score))\n",
    "print(\"Best parameters: \", best_parameters)\n",
    "print(\"Test set score with best parameters: {:.2f}\".format(test_score))"
   ]
  },
  {
   "cell_type": "markdown",
   "metadata": {},
   "source": [
    "# Cross Validation and Grid Search"
   ]
  },
  {
   "cell_type": "code",
   "execution_count": null,
   "metadata": {},
   "outputs": [],
   "source": [
    "import numpy as np\n",
    "# reference: manual_grid_search_cv\n",
    "for gamma in [0.001, 0.01, 0.1, 1, 10, 100]:\n",
    "    for C in [0.001, 0.01, 0.1, 1, 10, 100]:\n",
    "        # for each combination of parameters,\n",
    "        # train an SVC\n",
    "        svm = SVC(gamma=gamma, C=C)\n",
    "        # perform cross-validation\n",
    "        scores = cross_val_score(svm, X_trainval, y_trainval, cv=5)\n",
    "        # compute mean cross-validation accuracy\n",
    "        score = np.mean(scores)\n",
    "        # if we got a better score, store the score and parameters\n",
    "        if score > best_score:\n",
    "            best_score = score\n",
    "            best_parameters = {'C': C, 'gamma': gamma}\n",
    "# rebuild a model on the combined training and validation set\n",
    "svm = SVC(**best_parameters)\n",
    "svm.fit(X_trainval, y_trainval)\n",
    "print(best_parameters, best_score)\n",
    "        "
   ]
  },
  {
   "cell_type": "markdown",
   "metadata": {},
   "source": [
    "# GridSearchCV"
   ]
  },
  {
   "cell_type": "code",
   "execution_count": 25,
   "metadata": {},
   "outputs": [],
   "source": [
    "from sklearn.model_selection import GridSearchCV\n",
    "from sklearn.svm import SVC\n",
    "\n",
    "param_grid = {'C': [0.001, 0.01, 0.1, 1, 10, 100],\n",
    "              'gamma': [0.001, 0.01, 0.1, 1, 10, 100]}\n",
    "\n",
    "grid_search = GridSearchCV(SVC(),\n",
    "                param_grid, cv=5, return_train_score=True)"
   ]
  },
  {
   "cell_type": "code",
   "execution_count": 26,
   "metadata": {},
   "outputs": [
    {
     "data": {
      "text/plain": [
       "GridSearchCV(cv=5, error_score='raise',\n",
       "       estimator=SVC(C=1.0, cache_size=200, class_weight=None, coef0=0.0,\n",
       "  decision_function_shape='ovr', degree=3, gamma='auto', kernel='rbf',\n",
       "  max_iter=-1, probability=False, random_state=None, shrinking=True,\n",
       "  tol=0.001, verbose=False),\n",
       "       fit_params=None, iid=True, n_jobs=1,\n",
       "       param_grid={'C': [0.001, 0.01, 0.1, 1, 10, 100], 'gamma': [0.001, 0.01, 0.1, 1, 10, 100]},\n",
       "       pre_dispatch='2*n_jobs', refit=True, return_train_score=True,\n",
       "       scoring=None, verbose=0)"
      ]
     },
     "execution_count": 26,
     "metadata": {},
     "output_type": "execute_result"
    }
   ],
   "source": [
    "X_train, X_test, y_train, y_test = train_test_split(\n",
    "     iris.data, iris.target, random_state=0)\n",
    "grid_search.fit(X_train, y_train)"
   ]
  },
  {
   "cell_type": "code",
   "execution_count": 27,
   "metadata": {},
   "outputs": [
    {
     "name": "stdout",
     "output_type": "stream",
     "text": [
      "Test set score: 0.97\n"
     ]
    }
   ],
   "source": [
    "print(\"Test set score: {:.2f}\".format(grid_search.score(X_test, y_test)))"
   ]
  },
  {
   "cell_type": "code",
   "execution_count": 29,
   "metadata": {},
   "outputs": [
    {
     "name": "stdout",
     "output_type": "stream",
     "text": [
      "Best parameters: {'C': 100, 'gamma': 0.01}\n",
      "Best cross-validation score: 0.97\n"
     ]
    }
   ],
   "source": [
    "print(\"Best parameters: {}\".format(grid_search.best_params_))\n",
    "print(\"Best cross-validation score: {:.2f}\".format(grid_search.best_score_))"
   ]
  },
  {
   "cell_type": "code",
   "execution_count": 30,
   "metadata": {},
   "outputs": [
    {
     "name": "stdout",
     "output_type": "stream",
     "text": [
      "Best estimator:\n",
      "SVC(C=100, cache_size=200, class_weight=None, coef0=0.0,\n",
      "  decision_function_shape='ovr', degree=3, gamma=0.01, kernel='rbf',\n",
      "  max_iter=-1, probability=False, random_state=None, shrinking=True,\n",
      "  tol=0.001, verbose=False)\n"
     ]
    }
   ],
   "source": [
    "print(\"Best estimator:\\n{}\".format(grid_search.best_estimator_))"
   ]
  },
  {
   "cell_type": "code",
   "execution_count": null,
   "metadata": {},
   "outputs": [],
   "source": []
  }
 ],
 "metadata": {
  "kernelspec": {
   "display_name": "Python 3",
   "language": "python",
   "name": "python3"
  },
  "language_info": {
   "codemirror_mode": {
    "name": "ipython",
    "version": 3
   },
   "file_extension": ".py",
   "mimetype": "text/x-python",
   "name": "python",
   "nbconvert_exporter": "python",
   "pygments_lexer": "ipython3",
   "version": "3.7.0"
  }
 },
 "nbformat": 4,
 "nbformat_minor": 2
}
