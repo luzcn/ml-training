{
 "cells": [
  {
   "cell_type": "markdown",
   "metadata": {},
   "source": [
    "# Exercise: Reading TTL Data"
   ]
  },
  {
   "cell_type": "markdown",
   "metadata": {},
   "source": [
    "## Step 1: Read in __`agg_application_pod_hourly.csv`__ \n",
    "* as with the previous TTL data we examined, there are no column headers in the dataset\n",
    "* if you get a __`DtypeWarning`__ about mixed types, figure out what's going on and how to fix"
   ]
  },
  {
   "cell_type": "code",
   "execution_count": 32,
   "metadata": {},
   "outputs": [],
   "source": [
    "import pandas as pd\n",
    "data=pd.read_csv('data/agg_application_pod_hourly.csv', header=None, na_values=[r'\\N'])"
   ]
  },
  {
   "cell_type": "markdown",
   "metadata": {},
   "source": [
    "## Step 2: Inspect the data..."
   ]
  },
  {
   "cell_type": "code",
   "execution_count": 33,
   "metadata": {},
   "outputs": [
    {
     "data": {
      "text/html": [
       "<div>\n",
       "<style scoped>\n",
       "    .dataframe tbody tr th:only-of-type {\n",
       "        vertical-align: middle;\n",
       "    }\n",
       "\n",
       "    .dataframe tbody tr th {\n",
       "        vertical-align: top;\n",
       "    }\n",
       "\n",
       "    .dataframe thead th {\n",
       "        text-align: right;\n",
       "    }\n",
       "</style>\n",
       "<table border=\"1\" class=\"dataframe\">\n",
       "  <thead>\n",
       "    <tr style=\"text-align: right;\">\n",
       "      <th></th>\n",
       "      <th>0</th>\n",
       "      <th>1</th>\n",
       "      <th>2</th>\n",
       "      <th>3</th>\n",
       "      <th>4</th>\n",
       "      <th>5</th>\n",
       "      <th>6</th>\n",
       "      <th>7</th>\n",
       "      <th>8</th>\n",
       "      <th>9</th>\n",
       "      <th>10</th>\n",
       "      <th>11</th>\n",
       "      <th>12</th>\n",
       "    </tr>\n",
       "  </thead>\n",
       "  <tbody>\n",
       "    <tr>\n",
       "      <th>0</th>\n",
       "      <td>7</td>\n",
       "      <td>20170121</td>\n",
       "      <td>LON</td>\n",
       "      <td>SP9</td>\n",
       "      <td>cs86</td>\n",
       "      <td>37.980300</td>\n",
       "      <td>7.938677</td>\n",
       "      <td>5.929535</td>\n",
       "      <td>0.799236</td>\n",
       "      <td>NaN</td>\n",
       "      <td>2017-02-27 20:38:10.59641</td>\n",
       "      <td>NaN</td>\n",
       "      <td>NaN</td>\n",
       "    </tr>\n",
       "    <tr>\n",
       "      <th>1</th>\n",
       "      <td>7</td>\n",
       "      <td>20170121</td>\n",
       "      <td>WAS</td>\n",
       "      <td>SP2</td>\n",
       "      <td>na4</td>\n",
       "      <td>69.257324</td>\n",
       "      <td>14.353811</td>\n",
       "      <td>11.269566</td>\n",
       "      <td>0.910468</td>\n",
       "      <td>NaN</td>\n",
       "      <td>2017-02-27 20:38:10.59641</td>\n",
       "      <td>NaN</td>\n",
       "      <td>NaN</td>\n",
       "    </tr>\n",
       "    <tr>\n",
       "      <th>2</th>\n",
       "      <td>7</td>\n",
       "      <td>20170121</td>\n",
       "      <td>CHI</td>\n",
       "      <td>SP1</td>\n",
       "      <td>gs0</td>\n",
       "      <td>33.341110</td>\n",
       "      <td>17.466251</td>\n",
       "      <td>10.286361</td>\n",
       "      <td>1.259740</td>\n",
       "      <td>NaN</td>\n",
       "      <td>2017-02-27 20:38:10.59641</td>\n",
       "      <td>NaN</td>\n",
       "      <td>NaN</td>\n",
       "    </tr>\n",
       "    <tr>\n",
       "      <th>3</th>\n",
       "      <td>7</td>\n",
       "      <td>20170121</td>\n",
       "      <td>CHI</td>\n",
       "      <td>SP3</td>\n",
       "      <td>cs23</td>\n",
       "      <td>62.849570</td>\n",
       "      <td>13.417571</td>\n",
       "      <td>9.052662</td>\n",
       "      <td>0.980685</td>\n",
       "      <td>NaN</td>\n",
       "      <td>2017-02-27 20:38:10.59641</td>\n",
       "      <td>NaN</td>\n",
       "      <td>NaN</td>\n",
       "    </tr>\n",
       "    <tr>\n",
       "      <th>4</th>\n",
       "      <td>7</td>\n",
       "      <td>20170121</td>\n",
       "      <td>LON</td>\n",
       "      <td>SP9</td>\n",
       "      <td>cs87</td>\n",
       "      <td>34.985798</td>\n",
       "      <td>7.711010</td>\n",
       "      <td>5.902223</td>\n",
       "      <td>0.510657</td>\n",
       "      <td>NaN</td>\n",
       "      <td>2017-02-27 20:38:10.59641</td>\n",
       "      <td>NaN</td>\n",
       "      <td>NaN</td>\n",
       "    </tr>\n",
       "  </tbody>\n",
       "</table>\n",
       "</div>"
      ],
      "text/plain": [
       "   0         1    2    3     4          5          6          7         8   \\\n",
       "0   7  20170121  LON  SP9  cs86  37.980300   7.938677   5.929535  0.799236   \n",
       "1   7  20170121  WAS  SP2   na4  69.257324  14.353811  11.269566  0.910468   \n",
       "2   7  20170121  CHI  SP1   gs0  33.341110  17.466251  10.286361  1.259740   \n",
       "3   7  20170121  CHI  SP3  cs23  62.849570  13.417571   9.052662  0.980685   \n",
       "4   7  20170121  LON  SP9  cs87  34.985798   7.711010   5.902223  0.510657   \n",
       "\n",
       "   9                          10  11  12  \n",
       "0 NaN  2017-02-27 20:38:10.59641 NaN NaN  \n",
       "1 NaN  2017-02-27 20:38:10.59641 NaN NaN  \n",
       "2 NaN  2017-02-27 20:38:10.59641 NaN NaN  \n",
       "3 NaN  2017-02-27 20:38:10.59641 NaN NaN  \n",
       "4 NaN  2017-02-27 20:38:10.59641 NaN NaN  "
      ]
     },
     "execution_count": 33,
     "metadata": {},
     "output_type": "execute_result"
    }
   ],
   "source": [
    "data.head()"
   ]
  },
  {
   "cell_type": "markdown",
   "metadata": {},
   "source": [
    "## Step 3: Set the names of the columns to \n",
    "__`hour_key, date_key, datacenter, superpod, pod, mem_utilization, max_app_cpu, avg_app_cpu, gc_perc, p95_app_cpu, last_modified, app_host_count_active, app_transacting_host_count`__\n",
    "* Remember your Python–you can use __`split()`__ to make this easier"
   ]
  },
  {
   "cell_type": "code",
   "execution_count": 34,
   "metadata": {},
   "outputs": [
    {
     "data": {
      "text/html": [
       "<div>\n",
       "<style scoped>\n",
       "    .dataframe tbody tr th:only-of-type {\n",
       "        vertical-align: middle;\n",
       "    }\n",
       "\n",
       "    .dataframe tbody tr th {\n",
       "        vertical-align: top;\n",
       "    }\n",
       "\n",
       "    .dataframe thead th {\n",
       "        text-align: right;\n",
       "    }\n",
       "</style>\n",
       "<table border=\"1\" class=\"dataframe\">\n",
       "  <thead>\n",
       "    <tr style=\"text-align: right;\">\n",
       "      <th></th>\n",
       "      <th>hour_key</th>\n",
       "      <th>date_key</th>\n",
       "      <th>datacenter</th>\n",
       "      <th>superpod</th>\n",
       "      <th>pod</th>\n",
       "      <th>mem_utilization</th>\n",
       "      <th>max_app_cpu</th>\n",
       "      <th>avg_app_cpu</th>\n",
       "      <th>gc_perc</th>\n",
       "      <th>p95_app_cpu</th>\n",
       "      <th>last_modified</th>\n",
       "      <th>app_host_count_active</th>\n",
       "      <th>app_transacting_host_count</th>\n",
       "    </tr>\n",
       "  </thead>\n",
       "  <tbody>\n",
       "    <tr>\n",
       "      <th>0</th>\n",
       "      <td>7</td>\n",
       "      <td>20170121</td>\n",
       "      <td>LON</td>\n",
       "      <td>SP9</td>\n",
       "      <td>cs86</td>\n",
       "      <td>37.980300</td>\n",
       "      <td>7.938677</td>\n",
       "      <td>5.929535</td>\n",
       "      <td>0.799236</td>\n",
       "      <td>NaN</td>\n",
       "      <td>2017-02-27 20:38:10.59641</td>\n",
       "      <td>NaN</td>\n",
       "      <td>NaN</td>\n",
       "    </tr>\n",
       "    <tr>\n",
       "      <th>1</th>\n",
       "      <td>7</td>\n",
       "      <td>20170121</td>\n",
       "      <td>WAS</td>\n",
       "      <td>SP2</td>\n",
       "      <td>na4</td>\n",
       "      <td>69.257324</td>\n",
       "      <td>14.353811</td>\n",
       "      <td>11.269566</td>\n",
       "      <td>0.910468</td>\n",
       "      <td>NaN</td>\n",
       "      <td>2017-02-27 20:38:10.59641</td>\n",
       "      <td>NaN</td>\n",
       "      <td>NaN</td>\n",
       "    </tr>\n",
       "    <tr>\n",
       "      <th>2</th>\n",
       "      <td>7</td>\n",
       "      <td>20170121</td>\n",
       "      <td>CHI</td>\n",
       "      <td>SP1</td>\n",
       "      <td>gs0</td>\n",
       "      <td>33.341110</td>\n",
       "      <td>17.466251</td>\n",
       "      <td>10.286361</td>\n",
       "      <td>1.259740</td>\n",
       "      <td>NaN</td>\n",
       "      <td>2017-02-27 20:38:10.59641</td>\n",
       "      <td>NaN</td>\n",
       "      <td>NaN</td>\n",
       "    </tr>\n",
       "    <tr>\n",
       "      <th>3</th>\n",
       "      <td>7</td>\n",
       "      <td>20170121</td>\n",
       "      <td>CHI</td>\n",
       "      <td>SP3</td>\n",
       "      <td>cs23</td>\n",
       "      <td>62.849570</td>\n",
       "      <td>13.417571</td>\n",
       "      <td>9.052662</td>\n",
       "      <td>0.980685</td>\n",
       "      <td>NaN</td>\n",
       "      <td>2017-02-27 20:38:10.59641</td>\n",
       "      <td>NaN</td>\n",
       "      <td>NaN</td>\n",
       "    </tr>\n",
       "    <tr>\n",
       "      <th>4</th>\n",
       "      <td>7</td>\n",
       "      <td>20170121</td>\n",
       "      <td>LON</td>\n",
       "      <td>SP9</td>\n",
       "      <td>cs87</td>\n",
       "      <td>34.985798</td>\n",
       "      <td>7.711010</td>\n",
       "      <td>5.902223</td>\n",
       "      <td>0.510657</td>\n",
       "      <td>NaN</td>\n",
       "      <td>2017-02-27 20:38:10.59641</td>\n",
       "      <td>NaN</td>\n",
       "      <td>NaN</td>\n",
       "    </tr>\n",
       "  </tbody>\n",
       "</table>\n",
       "</div>"
      ],
      "text/plain": [
       "   hour_key  date_key datacenter superpod   pod  mem_utilization  max_app_cpu  \\\n",
       "0         7  20170121        LON      SP9  cs86        37.980300     7.938677   \n",
       "1         7  20170121        WAS      SP2   na4        69.257324    14.353811   \n",
       "2         7  20170121        CHI      SP1   gs0        33.341110    17.466251   \n",
       "3         7  20170121        CHI      SP3  cs23        62.849570    13.417571   \n",
       "4         7  20170121        LON      SP9  cs87        34.985798     7.711010   \n",
       "\n",
       "   avg_app_cpu   gc_perc  p95_app_cpu              last_modified  \\\n",
       "0     5.929535  0.799236          NaN  2017-02-27 20:38:10.59641   \n",
       "1    11.269566  0.910468          NaN  2017-02-27 20:38:10.59641   \n",
       "2    10.286361  1.259740          NaN  2017-02-27 20:38:10.59641   \n",
       "3     9.052662  0.980685          NaN  2017-02-27 20:38:10.59641   \n",
       "4     5.902223  0.510657          NaN  2017-02-27 20:38:10.59641   \n",
       "\n",
       "   app_host_count_active  app_transacting_host_count  \n",
       "0                    NaN                         NaN  \n",
       "1                    NaN                         NaN  \n",
       "2                    NaN                         NaN  \n",
       "3                    NaN                         NaN  \n",
       "4                    NaN                         NaN  "
      ]
     },
     "execution_count": 34,
     "metadata": {},
     "output_type": "execute_result"
    }
   ],
   "source": [
    "header_str='hour_key, date_key, datacenter, superpod, pod, mem_utilization, max_app_cpu, avg_app_cpu, gc_perc, p95_app_cpu, last_modified, app_host_count_active, app_transacting_host_count'\n",
    "data.columns=header_str.split(', ')\n",
    "data.head()"
   ]
  },
  {
   "cell_type": "markdown",
   "metadata": {},
   "source": [
    "## Step 4: inspect the column __`max_app_cpu`__"
   ]
  },
  {
   "cell_type": "code",
   "execution_count": 36,
   "metadata": {},
   "outputs": [
    {
     "data": {
      "text/plain": [
       "count    1.116360e+06\n",
       "mean     1.180563e+01\n",
       "std      7.355096e+00\n",
       "min      0.000000e+00\n",
       "25%      6.570135e+00\n",
       "50%      9.981898e+00\n",
       "75%      1.497794e+01\n",
       "max      8.185169e+01\n",
       "Name: max_app_cpu, dtype: float64"
      ]
     },
     "execution_count": 36,
     "metadata": {},
     "output_type": "execute_result"
    }
   ],
   "source": [
    "data['max_app_cpu'].describe()"
   ]
  },
  {
   "cell_type": "markdown",
   "metadata": {},
   "source": [
    "## Step 5: drop the missing data"
   ]
  },
  {
   "cell_type": "code",
   "execution_count": 37,
   "metadata": {},
   "outputs": [
    {
     "data": {
      "text/plain": [
       "count    1.116360e+06\n",
       "mean     1.180563e+01\n",
       "std      7.355096e+00\n",
       "min      0.000000e+00\n",
       "25%      6.570135e+00\n",
       "50%      9.981898e+00\n",
       "75%      1.497794e+01\n",
       "max      8.185169e+01\n",
       "Name: max_app_cpu, dtype: float64"
      ]
     },
     "execution_count": 37,
     "metadata": {},
     "output_type": "execute_result"
    }
   ],
   "source": [
    "data['max_app_cpu'].dropna().describe()"
   ]
  },
  {
   "cell_type": "code",
   "execution_count": null,
   "metadata": {},
   "outputs": [],
   "source": []
  },
  {
   "cell_type": "code",
   "execution_count": null,
   "metadata": {},
   "outputs": [],
   "source": []
  }
 ],
 "metadata": {
  "kernelspec": {
   "display_name": "Python 3",
   "language": "python",
   "name": "python3"
  },
  "language_info": {
   "codemirror_mode": {
    "name": "ipython",
    "version": 3
   },
   "file_extension": ".py",
   "mimetype": "text/x-python",
   "name": "python",
   "nbconvert_exporter": "python",
   "pygments_lexer": "ipython3",
   "version": "3.7.3"
  }
 },
 "nbformat": 4,
 "nbformat_minor": 2
}
